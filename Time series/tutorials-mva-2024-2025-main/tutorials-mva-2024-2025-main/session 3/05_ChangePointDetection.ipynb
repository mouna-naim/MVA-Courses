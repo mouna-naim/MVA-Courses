{
 "cells": [
  {
   "cell_type": "markdown",
   "metadata": {},
   "source": [
    "**Machine Learning for Time Series (Master MVA)**\n",
    "\n",
    "- [Link to the class material.](http://www.laurentoudre.fr/ast.html)"
   ]
  },
  {
   "cell_type": "markdown",
   "metadata": {},
   "source": [
    "# Introduction\n",
    "\n",
    "In this notebook, we illustrate the following concept:\n",
    "- change point detection."
   ]
  },
  {
   "cell_type": "markdown",
   "metadata": {},
   "source": [
    "## Setup"
   ]
  },
  {
   "cell_type": "markdown",
   "metadata": {},
   "source": [
    "**Import**"
   ]
  },
  {
   "cell_type": "code",
   "execution_count": null,
   "metadata": {},
   "outputs": [],
   "source": [
    "import datetime as dt\n",
    "from math import log\n",
    "\n",
    "import matplotlib as mpl\n",
    "import matplotlib.pyplot as plt\n",
    "import numpy as np\n",
    "import pandas as pd\n",
    "import ruptures as rpt\n",
    "from loadmydata.load_uea_ucr import load_uea_ucr_data\n",
    "from matplotlib.dates import DateFormatter\n",
    "from ruptures.base import BaseCost\n",
    "from ruptures.metrics import hausdorff\n",
    "from scipy.stats import ttest_ind\n",
    "from scipy.optimize import minimize"
   ]
  },
  {
   "cell_type": "markdown",
   "metadata": {},
   "source": [
    "**Utility functions**"
   ]
  },
  {
   "cell_type": "code",
   "execution_count": null,
   "metadata": {
    "tags": []
   },
   "outputs": [],
   "source": [
    "def fig_ax(nrows=1, figsize=(15, 3)):\n",
    "    return plt.subplots(nrows=nrows, figsize=(figsize[0], figsize[1] * nrows))"
   ]
  },
  {
   "cell_type": "code",
   "execution_count": null,
   "metadata": {},
   "outputs": [],
   "source": [
    "myFmt = DateFormatter(\"%H:%M\")\n",
    "\n",
    "\n",
    "def plot_clinear_approx(time_index, signal, bkps, ax=None):\n",
    "    # plot\n",
    "    ax.plot(time_index, signal)\n",
    "    # plot changes\n",
    "    for b in bkps[:-1]:\n",
    "        ax.axvline(time_index[b], ls=\"--\", color=\"k\")\n",
    "    # add linear approximation\n",
    "    indexes = np.r_[0, np.array(bkps) - 1]\n",
    "    ax.plot(\n",
    "        np.take(time_index, indexes),\n",
    "        np.take(signal, indexes),\n",
    "        color=\"k\",\n",
    "        alpha=0.5,\n",
    "    )\n",
    "    ax.scatter(\n",
    "        np.take(time_index, indexes),\n",
    "        np.take(signal, indexes),\n",
    "        color=\"r\",\n",
    "        alpha=0.5,\n",
    "        s=100,\n",
    "        marker=\"*\",\n",
    "    )\n",
    "    ax.margins(x=0)\n",
    "    ax.xaxis.set_major_formatter(myFmt)"
   ]
  },
  {
   "cell_type": "markdown",
   "metadata": {},
   "source": [
    "# Change point detection\n",
    "\n",
    "Change point detection consists in finding the temporal boundaries of homogeneous portions of a signal."
   ]
  },
  {
   "cell_type": "markdown",
   "metadata": {},
   "source": [
    "## Mean shift detection\n",
    "\n",
    "The simplest (and oldest) change point detection methods deals with mean shifts."
   ]
  },
  {
   "cell_type": "markdown",
   "metadata": {},
   "source": [
    "### Single change point\n",
    "\n",
    "We start by trying to detect a single shift in mean (in a synthetic signal)."
   ]
  },
  {
   "cell_type": "code",
   "execution_count": null,
   "metadata": {},
   "outputs": [],
   "source": [
    "# generate signal\n",
    "n_samples = 1000\n",
    "n_bkps = 1\n",
    "n_dims = 1\n",
    "sigma_noise = 1\n",
    "signal, bkps = rpt.pw_constant(\n",
    "    n_samples=n_samples, n_features=n_dims, n_bkps=n_bkps, noise_std=0\n",
    ")\n",
    "signal_with_noise = signal + np.random.normal(scale=sigma_noise, size=signal.shape)\n",
    "\n",
    "fig, ax = fig_ax()\n",
    "ax.plot(signal, label=\"True\")\n",
    "ax.plot(signal_with_noise, label=\"Observed\")\n",
    "_ = plt.legend()"
   ]
  },
  {
   "cell_type": "markdown",
   "metadata": {},
   "source": [
    "We fit the noisy signal with a piecewise constant function with a single discontinuity. The best fit is the function which minimizes the norm of the residuals.\n",
    "\n",
    "For a $T$-sample signal $y$ and an index $a$, this amounts to:\n",
    "\n",
    "$$\n",
    "\\sum_{t< a} \\|y_t-\\bar{y}_{0..a}\\|^2 + \\sum_{t\\geq a} \\|y_t-\\bar{y}_{a..T}\\|^2\n",
    "$$\n",
    "\n",
    "where $\\bar{y}_{\\text{left}}$ and $\\bar{y}_{\\text{right}}$ are the empirical means of $\\{y_0,\\dots,y_{a-1}\\}$ and $\\{y_a,\\dots,y_{T-1}\\}$ respectively.\n",
    "\n",
    "The detection procedure consists in finding the index $a$ that minimizes this sum of costs."
   ]
  },
  {
   "cell_type": "code",
   "execution_count": null,
   "metadata": {},
   "outputs": [],
   "source": [
    "sum_of_cost_list = list()\n",
    "\n",
    "admissible_change_points = np.arange(1, n_samples - 1)\n",
    "\n",
    "for mid_point in admissible_change_points:\n",
    "    sum_of_cost = signal_with_noise[:mid_point].var() * mid_point + signal_with_noise[\n",
    "        mid_point:\n",
    "    ].var() * (n_samples - mid_point)\n",
    "    sum_of_cost_list.append(sum_of_cost)\n",
    "\n",
    "fig, ax = fig_ax(figsize=(6, 3))\n",
    "ax.plot(admissible_change_points, sum_of_cost_list)\n",
    "\n",
    "# take the minimum sum of costs\n",
    "detected_change_point = admissible_change_points[np.argmin(sum_of_cost_list)]\n",
    "\n",
    "# add a vertical dashed line\n",
    "ax.axvline(detected_change_point, ls=\"--\", color=\"k\")"
   ]
  },
  {
   "cell_type": "markdown",
   "metadata": {},
   "source": [
    "<div class=\"alert alert-success\" role=\"alert\">\n",
    "    <p><b>Question</b></p>\n",
    "    <p>What happens to the sum of costs when the noise varies?</p>\n",
    "    <p>And when the number of samples increases?</p>\n",
    "</div>"
   ]
  },
  {
   "cell_type": "markdown",
   "metadata": {},
   "source": []
  },
  {
   "cell_type": "markdown",
   "metadata": {},
   "source": [
    "To check if a change point is indeed present, let us do a t-test between the left part of the signal and the right part of the signal."
   ]
  },
  {
   "cell_type": "code",
   "execution_count": null,
   "metadata": {},
   "outputs": [],
   "source": [
    "ttest_ind(\n",
    "    signal_with_noise[:detected_change_point],\n",
    "    signal_with_noise[detected_change_point:],\n",
    ")"
   ]
  },
  {
   "cell_type": "markdown",
   "metadata": {},
   "source": [
    "At first sight, the detected change seems to be statistically significant.\n",
    "\n",
    "However, let us test this procedure on a pure noise signal."
   ]
  },
  {
   "cell_type": "markdown",
   "metadata": {},
   "source": [
    "<div class=\"alert alert-success\" role=\"alert\">\n",
    "    <p><b>Question</b></p>\n",
    "    <p>Perform the same procedure as before on the pure noise signal. According to the t-test, is there a change point?</p>\n",
    "    <p>What went wrong?</p>\n",
    "</div>"
   ]
  },
  {
   "cell_type": "code",
   "execution_count": null,
   "metadata": {},
   "outputs": [],
   "source": []
  },
  {
   "cell_type": "markdown",
   "metadata": {},
   "source": [
    "We will introduce later a criterion to assess the presence of a change."
   ]
  },
  {
   "cell_type": "markdown",
   "metadata": {},
   "source": [
    "### Multiple change points (known $K$)\n",
    "\n",
    "To extend the detection to more than one change, we simply some the costs of each segment defined by the $K$ change points $t_1,\\dots,t_K$:\n",
    "\n",
    "$$\n",
    "\\sum_{t=0}^{t_1-1} \\|y_t-\\bar{y}_{0..t_1}\\|^2 + \\sum_{t=t_1}^{t_2-1} \\|y_t-\\bar{y}_{t_1..t_2}\\|^2 + \\dots + \\sum_{t=t_K}^{T-1} \\|y_t-\\bar{y}_{t_K..T}\\|^2.\n",
    "$$\n",
    "\n",
    "We minimize over the $t_k$, using dynamic programming. (Other methods exists, e.g. binary segmentation, bottom-up, window-based, but are only approximate.)"
   ]
  },
  {
   "cell_type": "code",
   "execution_count": null,
   "metadata": {},
   "outputs": [],
   "source": [
    "# generate signal\n",
    "n_samples = 200\n",
    "n_bkps = 3\n",
    "n_dims = 15\n",
    "sigma_noise = 15\n",
    "signal, bkps = rpt.pw_constant(\n",
    "    n_samples=n_samples, n_features=n_dims, n_bkps=n_bkps, noise_std=0\n",
    ")\n",
    "signal_with_noise = signal + np.random.normal(scale=sigma_noise, size=signal.shape)\n",
    "\n",
    "# display\n",
    "fig, ax_arr = fig_ax(nrows=n_dims)\n",
    "for signal1d, signal1d_with_noise, ax in zip(signal.T, signal_with_noise.T, ax_arr):\n",
    "    ax.plot(signal1d)\n",
    "    ax.plot(signal1d_with_noise)\n",
    "    ax.set_xlim(0, n_samples)"
   ]
  },
  {
   "cell_type": "markdown",
   "metadata": {},
   "source": [
    "Perform change point detection using dynamic programming."
   ]
  },
  {
   "cell_type": "code",
   "execution_count": null,
   "metadata": {},
   "outputs": [],
   "source": [
    "algo = rpt.Dynp(model=\"l2\", jump=1).fit(signal_with_noise)"
   ]
  },
  {
   "cell_type": "code",
   "execution_count": null,
   "metadata": {},
   "outputs": [],
   "source": [
    "predicted_bkps = algo.predict(n_bkps=n_bkps)\n",
    "\n",
    "fig, ax_arr = rpt.display(signal, bkps, predicted_bkps)\n",
    "for signal1d_with_noise, ax in zip(signal_with_noise.T, ax_arr):\n",
    "    ax.plot(signal1d_with_noise)\n",
    "    ax.set_xlim(0, n_samples)\n",
    "\n",
    "print(f\"error: {hausdorff(bkps, predicted_bkps)} samples\")"
   ]
  },
  {
   "cell_type": "markdown",
   "metadata": {},
   "source": [
    "### Penalized change point detection (unknown $K$)\n",
    "\n",
    "When the number of changes $K$, we can perform penalized detection:\n",
    "\n",
    "$$\n",
    "\\min_{K, t_1,\\dots,t_K} \\left[ \\left(\\sum_k \\sum_{t=t_k}^{t_{k+1}-1} \\|y_t-\\bar{y}_{t_k..t_{k+1}}\\|^2 \\right) + \\beta K \\right]\n",
    "$$\n",
    "\n",
    "when $\\beta>0$ controls the trade-off between the data fidelity and the complexity of the segmentation."
   ]
  },
  {
   "cell_type": "markdown",
   "metadata": {},
   "source": [
    "<div class=\"alert alert-success\" role=\"alert\">\n",
    "    <p><b>Question</b></p>\n",
    "    <p>When the regularization parameter increases, do we detect more or less changes?</p>\n",
    "</div>"
   ]
  },
  {
   "cell_type": "markdown",
   "metadata": {},
   "source": []
  },
  {
   "cell_type": "markdown",
   "metadata": {},
   "source": [
    "This formulation generalizes a number of model selection criterion, for instance the well-known BIC criterion: $\\beta_{\\text{BIC}}=2\\sigma^2\\log(T)$ (where $T$ is the number of samples) for a univariate Gaussian process with piecewise constant mean and *known* variance."
   ]
  },
  {
   "cell_type": "markdown",
   "metadata": {},
   "source": [
    "<div class=\"alert alert-success\" role=\"alert\">\n",
    "    <p><b>Question</b></p>\n",
    "    <p>For a piecewise constant univariate signal with Gaussian noise, use BIC (with one and zero change) to asses the presence of a change.</p>\n",
    "</div>"
   ]
  },
  {
   "cell_type": "code",
   "execution_count": null,
   "metadata": {},
   "outputs": [],
   "source": []
  },
  {
   "cell_type": "markdown",
   "metadata": {},
   "source": [
    "<div class=\"alert alert-success\" role=\"alert\">\n",
    "    <p><b>Question</b></p>\n",
    "    <p>Do the same with the pure noise signal.</p>\n",
    "</div>"
   ]
  },
  {
   "cell_type": "code",
   "execution_count": null,
   "metadata": {},
   "outputs": [],
   "source": []
  },
  {
   "cell_type": "markdown",
   "metadata": {},
   "source": [
    "Let us apply the BIC criterion on a signal with several changes."
   ]
  },
  {
   "cell_type": "code",
   "execution_count": null,
   "metadata": {},
   "outputs": [],
   "source": [
    "# generate signal\n",
    "n_samples = 1000\n",
    "n_bkps = 7\n",
    "n_dims = 1\n",
    "noise_std = 1\n",
    "signal, bkps = rpt.pw_constant(\n",
    "    n_samples=n_samples, n_features=n_dims, n_bkps=n_bkps, noise_std=noise_std\n",
    ")"
   ]
  },
  {
   "cell_type": "markdown",
   "metadata": {},
   "source": [
    "Penalized change point detection is performed with PELT."
   ]
  },
  {
   "cell_type": "code",
   "execution_count": null,
   "metadata": {},
   "outputs": [],
   "source": [
    "pen_bic = 2 * np.log(n_samples) * noise_std**2\n",
    "predicted_bkps = rpt.Pelt(model=\"l2\", jump=1).fit_predict(signal=signal, pen=pen_bic)\n",
    "\n",
    "fig, ax_arr = rpt.display(signal, bkps, predicted_bkps)\n",
    "print(f\"error: {hausdorff(bkps, predicted_bkps)} samples\")"
   ]
  },
  {
   "cell_type": "markdown",
   "metadata": {},
   "source": [
    "## General distribution change (parametric)\n",
    "\n",
    "By setting the cost function to the negative max log likelihood, we can detect any (parametric) distribution change.\n",
    "\n",
    "$$\n",
    "c(y_{a..b}) = -\\max_\\theta\\log L(y_{a..b}, \\theta)\n",
    "$$\n",
    "\n",
    "where $L(\\cdot, \\theta)$ is the likelihood of a distribution parametrized by $\\theta$."
   ]
  },
  {
   "cell_type": "markdown",
   "metadata": {},
   "source": [
    "### Multivariate Gaussian"
   ]
  },
  {
   "cell_type": "markdown",
   "metadata": {},
   "source": [
    "<div class=\"alert alert-success\" role=\"alert\">\n",
    "    <p><b>Question</b></p>\n",
    "    <p>Assume a multivariate Gaussian process with piecewise constant parameters (mean and covariance matrix). Derive the associated cost function and BIC penalty.</p>\n",
    "</div>"
   ]
  },
  {
   "cell_type": "code",
   "execution_count": null,
   "metadata": {},
   "outputs": [],
   "source": []
  },
  {
   "cell_type": "markdown",
   "metadata": {},
   "source": [
    "### Count data (Poisson)"
   ]
  },
  {
   "cell_type": "markdown",
   "metadata": {},
   "source": [
    "<div class=\"alert alert-success\" role=\"alert\">\n",
    "    <p><b>Question</b></p>\n",
    "    <p>Assume a Poisson process with piecewise constant rate parameter. Derive the associated cost function and BIC penalty.</p>\n",
    "</div>"
   ]
  },
  {
   "cell_type": "markdown",
   "metadata": {},
   "source": [
    " "
   ]
  },
  {
   "cell_type": "markdown",
   "metadata": {},
   "source": [
    "We can define a cost function that can be used in `Dynp` and `Pelt`."
   ]
  },
  {
   "cell_type": "code",
   "execution_count": null,
   "metadata": {},
   "outputs": [],
   "source": [
    "class PoissonCost(BaseCost):\n",
    "\n",
    "    \"\"\"Custom cost for piecewise Poisson signals.\"\"\"\n",
    "\n",
    "    # The 2 following attributes must be specified for compatibility.\n",
    "    model = \"Poisson\"\n",
    "    min_size = 2\n",
    "\n",
    "    def fit(self, signal):\n",
    "        \"\"\"Set the internal parameter.\"\"\"\n",
    "        self.signal = signal\n",
    "        return self\n",
    "\n",
    "    def error(self, start, end):\n",
    "        \"\"\"Return the approximation cost on the segment [start:end].\n",
    "\n",
    "        Args:\n",
    "            start (int): start of the segment\n",
    "            end (int): end of the segment\n",
    "\n",
    "        Returns:\n",
    "            float: segment cost\n",
    "        \"\"\"\n",
    "        sub = self.signal[start:end]\n",
    "        return ..."
   ]
  },
  {
   "cell_type": "markdown",
   "metadata": {},
   "source": [
    "<div class=\"alert alert-success\" role=\"alert\">\n",
    "    <p><b>Question</b></p>\n",
    "    <p>Detect the change-points in the following signal (assume that the number of changes is unknown).</p>\n",
    "</div>"
   ]
  },
  {
   "cell_type": "code",
   "execution_count": null,
   "metadata": {},
   "outputs": [],
   "source": [
    "# fmt: off\n",
    "pwc_poisson_signal = np.array([16,14,9,11,10,19,7,13,18,10,15,15,6,21,15,13,15,16,14,11,11,11,16,15,10,13,5,13,11,10,17,17,14,16,9,10,9,14,14,9,4,17,10,15,19,14,18,11,11,14,11,6,15,16,15,15,12,9,16,14,12,13,10,13,19,12,14,15,16,14,10,10,13,13,17,9,9,9,16,6,7,9,11,13,23,10,9,9,18,19,15,5,14,14,7,8,22,13,13,7,14,11,8,11,18,9,9,20,10,9,14,16,9,8,8,19,14,16,9,11,15,13,14,10,14,15,15,16,9,10,6,5,12,6,10,10,5,11,13,9,9,10,11,12,14,11,9,9,11,10,7,11,6,10,13,9,5,13,13,6,8,8,6,10,14,15,8,21,10,7,12,14,11,15,11,11,13,9,11,11,14,9,10,10,9,10,9,6,8,7,12,10,15,6,8,10,9,9,17,8,9,6,5,15,3,12,10,11,11,8,7,9,9,10,11,10,8,15,9,12,5,8,13,12,9,12,5,13,13,9,13,9,9,11,11,15,12,11,6,9,9,2,8,17,13,5,13,10,6,9,14,9,13,12,10,9,15,13,18,7,10,7,15,17,10,15,19,11,10,15,16,12,13,15,11,11,7,11,9,11,8,10,11,19,14,18,12,18,13,9,13,12,7,12,11,15,10,17,14,9,16,19,11,11,21,12,13,19,12,11,15,16,11,14,17,12,17,16,13,11,7,21,16,13,11,13,9,13,6,15,21,10,17,8,14,11,12,17,11,12,8,16,20,10,6,13,11,14,7,10,9,8,9,19,16,17,10,11,14,6,12,16,12,18,11,16,12,6,16,11,18,12,14,12,16,14,16,14,14,19,6,12,10,25,11,16,17,16,12,9,14,14,10,15,12,17,13,16,17,13,9,22,25,20,16,14,20,15,16,14,21,15,11,14,18,11,17,19,10,17,17,9,18,12,10,10,10,19,15,25,13,20,22,17,14,12,11,13,23,17,18,19,19,9,8,16,16,20,21,23,16,17,15,17,9,19,12,18,21,17,15,17,18,17,19,20,18,9,9,18,17,12,16,14,20,11,16,13,19,16,14,16,15,17,15,19,11,17,17,14,13,10,14,13,17,15,14,14,16,26])\n",
    "# fmt: on\n",
    "bkps = [128, 252, 377, 500]"
   ]
  },
  {
   "cell_type": "code",
   "execution_count": null,
   "metadata": {},
   "outputs": [],
   "source": [
    "detected_bkps = ..."
   ]
  },
  {
   "cell_type": "code",
   "execution_count": null,
   "metadata": {},
   "outputs": [],
   "source": [
    "fig, (ax,) = rpt.display(pwc_poisson_signal, bkps, detected_bkps)\n",
    "ax.margins(x=0)"
   ]
  },
  {
   "cell_type": "code",
   "execution_count": null,
   "metadata": {},
   "outputs": [],
   "source": [
    "print(detected_bkps)"
   ]
  },
  {
   "cell_type": "markdown",
   "metadata": {},
   "source": [
    "<div class=\"alert alert-success\" role=\"alert\">\n",
    "    <p><b>Question</b></p>\n",
    "    <p>What are known limitations of the BIC criterion?</p>\n",
    "</div>"
   ]
  },
  {
   "cell_type": "code",
   "execution_count": null,
   "metadata": {},
   "outputs": [],
   "source": []
  },
  {
   "cell_type": "markdown",
   "metadata": {},
   "source": [
    "# Experiments"
   ]
  },
  {
   "cell_type": "code",
   "execution_count": null,
   "metadata": {},
   "outputs": [],
   "source": [
    "dataset_name = \"DodgerLoopGame\"\n",
    "data = load_uea_ucr_data(dataset_name)\n",
    "\n",
    "indexes_with_nan = [7, 15, 19]\n",
    "X_train = np.delete(data.X_train.data, indexes_with_nan, axis=0)\n",
    "y_train = np.delete(data.y_train.data, indexes_with_nan, axis=0)\n",
    "\n",
    "print(data.description)"
   ]
  },
  {
   "cell_type": "markdown",
   "metadata": {},
   "source": [
    "Plot the traffic on a normal day."
   ]
  },
  {
   "cell_type": "code",
   "execution_count": null,
   "metadata": {},
   "outputs": [],
   "source": [
    "ind = 8\n",
    "\n",
    "signal = X_train[ind]\n",
    "label = int(y_train[ind])\n",
    "\n",
    "time_index = pd.date_range(\"00:00\", \"23:59\", freq=\"5min\")\n",
    "\n",
    "fig, ax = fig_ax()\n",
    "ax.plot(time_index, signal)\n",
    "ax.xaxis.set_major_formatter(myFmt)\n",
    "ax.margins(x=0)\n",
    "_ = ax.set_title(f\"{'Game day' if label==2 else 'Normal day'}\")"
   ]
  },
  {
   "cell_type": "markdown",
   "metadata": {},
   "source": [
    "## Change in the intensity of a Poisson distribution"
   ]
  },
  {
   "cell_type": "markdown",
   "metadata": {},
   "source": [
    "<div class=\"alert alert-success\" role=\"alert\">\n",
    "    <p><b>Question</b></p>\n",
    "    <p>Detect changes in the Poisson rate parameter, with the BIC criterion.</p>\n",
    "</div>"
   ]
  },
  {
   "cell_type": "code",
   "execution_count": null,
   "metadata": {},
   "outputs": [],
   "source": [
    "...\n",
    "detected_bkps = ..."
   ]
  },
  {
   "cell_type": "code",
   "execution_count": null,
   "metadata": {},
   "outputs": [],
   "source": [
    "fig, ax = fig_ax()\n",
    "ax.plot(time_index, signal)\n",
    "\n",
    "for b in detected_bkps[:-1]:\n",
    "    ax.axvline(time_index[b], ls=\"--\", color=\"k\")\n",
    "\n",
    "ax.xaxis.set_major_formatter(myFmt)\n",
    "_ = ax.set_title(f\"{'Game day' if label==2 else 'Normal day'}\")"
   ]
  },
  {
   "cell_type": "markdown",
   "metadata": {},
   "source": [
    "<div class=\"alert alert-success\" role=\"alert\">\n",
    "    <p><b>Question</b></p>\n",
    "    <p>What do you observe?</p>\n",
    "</div>"
   ]
  },
  {
   "cell_type": "markdown",
   "metadata": {},
   "source": [
    " "
   ]
  },
  {
   "cell_type": "markdown",
   "metadata": {},
   "source": [
    "## Piecewise linear approximation"
   ]
  },
  {
   "cell_type": "markdown",
   "metadata": {},
   "source": [
    "Instead we can use a piecewise linear approximation with continuity constraint (cost function `clinear`)."
   ]
  },
  {
   "cell_type": "code",
   "execution_count": null,
   "metadata": {},
   "outputs": [],
   "source": [
    "fig, ax = fig_ax()\n",
    "\n",
    "detected_bkps = rpt.Dynp(model=\"clinear\").fit(signal).predict(n_bkps=3)\n",
    "plot_clinear_approx(time_index=time_index, signal=signal, bkps=detected_bkps, ax=ax)\n",
    "_ = ax.set_title(f\"{'Game day' if label==2 else 'Normal day'}\")"
   ]
  },
  {
   "cell_type": "markdown",
   "metadata": {},
   "source": [
    "The associated BIC criterion is $\\beta_{\\text{clinear}, BIC} = 2\\sigma^2\\log(T)$."
   ]
  },
  {
   "cell_type": "markdown",
   "metadata": {},
   "source": [
    "<div class=\"alert alert-success\" role=\"alert\">\n",
    "    <p><b>Question</b></p>\n",
    "    <p>The PELT algorithm does not work with the continuous piecewise linear model. Code a function to compute the penalized segmentation with this model. You can assume that $K=K_{max}=15$.</p>\n",
    "    <p>Detect changes with the BIC criterion. (Use the first 50 samples to estimate the variance.)</p>\n",
    "\n",
    "</div>"
   ]
  },
  {
   "cell_type": "code",
   "execution_count": null,
   "metadata": {},
   "outputs": [],
   "source": []
  },
  {
   "cell_type": "code",
   "execution_count": null,
   "metadata": {
    "tags": []
   },
   "outputs": [],
   "source": [
    "fig, ax = fig_ax()\n",
    "plot_clinear_approx(time_index=time_index, signal=signal, bkps=detected_bkps, ax=ax)\n",
    "_ = ax.set_title(f\"{'Game day' if label==2 else 'Normal day'}\")"
   ]
  },
  {
   "cell_type": "markdown",
   "metadata": {},
   "source": [
    "<div class=\"alert alert-success\" role=\"alert\">\n",
    "    <p><b>Question</b></p>\n",
    "    <p>What do you think of this segmentation?</p>\n",
    "</div>"
   ]
  },
  {
   "cell_type": "code",
   "execution_count": null,
   "metadata": {},
   "outputs": [],
   "source": []
  },
  {
   "cell_type": "markdown",
   "metadata": {},
   "source": [
    "## Supervised calibration\n",
    "\n",
    "To find a better regularization, we can use a few annotated examples. For a given penalty value, you can compute the associated F1 score and find the one that minimize this score.\n",
    "\n",
    "The F1-score is defined as follows.\n",
    "Denote $\\hat{t}_1,\\dots,\\hat{t}_{\\widehat{K}}$ the $\\widehat{K}$ starts of estimated events and ${t}_1^\\star,\\dots,{t}_{K}^\\star$ the ${K}^\\star$ starts of true events.\n",
    "A true event $t_k^\\star$ is declared \"detected\" (or positive) if at least one estimated event is within a user-defined margin.\n",
    "Formally, precision and recall are defined as follows:\n",
    "$$\n",
    "\\text{precision}:= |\\text{TP}| / \\widehat{K} \\quad\\text{and}\\quad \\text{recall}:= |\\text{TP}| / {K}^\\star\n",
    "$$\n",
    "where, for a given margin $M$, the true positives TP are true events for which there is an estimated one at less than $M$ samples, i.e. $\\text{TP}:=\\{{t}_k^\\star | \\exists \\hat{t}_l \\text{ s.t. } |\\hat{t}_l - t_k^\\star|\\leq M\\}$.\n",
    "We also add the constraint that a single estimated event cannot detect two true events.\n",
    "\n",
    "To compute precision and recall, use the function [precision_recall](https://centre-borelli.github.io/ruptures-docs/user-guide/metrics/precisionrecall/) friom `ruptures`."
   ]
  },
  {
   "cell_type": "markdown",
   "metadata": {},
   "source": [
    "I manually annotated four signals."
   ]
  },
  {
   "cell_type": "code",
   "execution_count": null,
   "metadata": {},
   "outputs": [],
   "source": [
    "# manually chosen\n",
    "segmentation_labels = {\n",
    "    0: [63, 97, 156, 187, 288],\n",
    "    2: [63, 184, 288],\n",
    "    10: [56, 93, 260, 270, 288],\n",
    "    11: [40, 170, 255, 271, 288],\n",
    "}\n",
    "margin = 5  # samples"
   ]
  },
  {
   "cell_type": "markdown",
   "metadata": {},
   "source": [
    "Look at the annotations."
   ]
  },
  {
   "cell_type": "code",
   "execution_count": null,
   "metadata": {
    "tags": []
   },
   "outputs": [],
   "source": [
    "for signal_index, manual_segmentation in segmentation_labels.items():\n",
    "    fig, ax = fig_ax()\n",
    "    signal = X_train[signal_index]\n",
    "    label = int(y_train[signal_index])\n",
    "\n",
    "    # plot\n",
    "    plot_clinear_approx(\n",
    "        time_index=time_index, signal=signal, bkps=manual_segmentation, ax=ax\n",
    "    )\n",
    "    _ = ax.set_title(f\"{'Game day' if label==2 else 'Normal day'}\")"
   ]
  },
  {
   "cell_type": "markdown",
   "metadata": {},
   "source": [
    "<div class=\"alert alert-success\" role=\"alert\">\n",
    "    <p><b>Question</b></p>\n",
    "    <p>Using a grid search, find the optimal penalty value.</p>\n",
    "</div>"
   ]
  },
  {
   "cell_type": "code",
   "execution_count": null,
   "metadata": {},
   "outputs": [],
   "source": [
    "pen_opt = ..."
   ]
  },
  {
   "cell_type": "markdown",
   "metadata": {},
   "source": [
    "<div class=\"alert alert-success\" role=\"alert\">\n",
    "    <p><b>Question</b></p>\n",
    "    <p>Using the supervised penalty value, segment all signals from the training set.</p>\n",
    "    <p>Plot all piecewise linear approximations, for each class (Normal day or Game day) separately.</p>\n",
    "</div>"
   ]
  },
  {
   "cell_type": "code",
   "execution_count": null,
   "metadata": {},
   "outputs": [],
   "source": []
  },
  {
   "cell_type": "markdown",
   "metadata": {},
   "source": [
    "<div class=\"alert alert-success\" role=\"alert\">\n",
    "    <p><b>Question</b></p>\n",
    "    <p>How would use the segmentations to classify the signals?</p>\n",
    "</div>"
   ]
  },
  {
   "cell_type": "markdown",
   "metadata": {},
   "source": []
  }
 ],
 "metadata": {
  "kernelspec": {
   "display_name": "Python 3 (ipykernel)",
   "language": "python",
   "name": "python3"
  },
  "language_info": {
   "codemirror_mode": {
    "name": "ipython",
    "version": 3
   },
   "file_extension": ".py",
   "mimetype": "text/x-python",
   "name": "python",
   "nbconvert_exporter": "python",
   "pygments_lexer": "ipython3",
   "version": "3.9.18"
  },
  "toc-autonumbering": true,
  "toc-showcode": false
 },
 "nbformat": 4,
 "nbformat_minor": 4
}
