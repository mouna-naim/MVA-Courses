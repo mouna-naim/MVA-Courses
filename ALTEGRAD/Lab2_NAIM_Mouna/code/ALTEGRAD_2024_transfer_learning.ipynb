{
 "cells": [
  {
   "cell_type": "markdown",
   "metadata": {
    "id": "DlAfI8mCWAf3"
   },
   "source": [
    "<center><h2>ALTeGraD 2024<br>Lab Session 2: Transfer learning for NLP</h2> 15 / 10 / 2024<br> Dr. G. Shang, Y. Zhang<br><br>\n",
    "\n",
    "\n",
    "<b>Student name:</b> NAIM Mouna\n",
    "\n",
    "</center>\n",
    "\n",
    "<br><br>\n",
    "In this lab we will:\n",
    "* Implement and pretrain a language model with transformer architecture.\n",
    "* Use the pretrained model (transfer learning) to perform a sentiment analysis task which consists of classifying some books reviews into positive and negative ones.\n",
    "* Compare the performance of the pretrained model to a model trained from scratch.\n",
    " <br>\n",
    "\n",
    "<b>The deadline for this lab is October 22, 2024 11:59 PM.</b> More details about the submission and the architecture for this lab can be found in the handout PDF."
   ]
  },
  {
   "cell_type": "code",
   "execution_count": 1,
   "metadata": {
    "id": "IqukuIe0Rb_c"
   },
   "outputs": [],
   "source": [
    "import math\n",
    "\n",
    "import torch\n",
    "import torch.nn as nn\n",
    "from torch.nn.utils.rnn import pad_sequence\n",
    "device = torch.device(\"cuda\" if torch.cuda.is_available() else \"cpu\")"
   ]
  },
  {
   "cell_type": "markdown",
   "metadata": {
    "id": "5FF6fjkqgN39"
   },
   "source": [
    "### The Model"
   ]
  },
  {
   "cell_type": "code",
   "execution_count": 2,
   "metadata": {
    "id": "p0cj9WkSFQwl"
   },
   "outputs": [],
   "source": [
    "class TransformerModel(nn.Module):\n",
    "    def __init__(self, ntoken, nhead, nhid, nlayers, dropout=0.5):\n",
    "        super(TransformerModel, self).__init__()\n",
    "        '''\n",
    "        ntokens: the size of vocabulary\n",
    "        nhid: the hidden dimension of the model.\n",
    "        We assume that embedding_dim = nhid\n",
    "        nlayers: the number of nn.TransformerEncoderLayer in nn.TransformerEncoder\n",
    "        nhead: the number of heads in the multiheadattention models\n",
    "        dropout: the dropout value\n",
    "         '''\n",
    "        self.model_type = \"Transformer\"\n",
    "        self.encoder = nn.Embedding(ntoken, nhid) # fill me, nhid = the dim_embed\n",
    "        self.pos_encoder = PositionalEncoding(nhid) #fill me, the PositionalEncoding class is implemented in the next cell\n",
    "        encoder_layers = nn.TransformerEncoderLayer(d_model=nhid, nhead=nhead, dim_feedforward=nhid, dropout=dropout) #fill me we assume nhid = d_model = dim_feedforward\n",
    "        self.transformer_encoder = nn.TransformerEncoder(encoder_layers, nlayers) #fill me\n",
    "        self.nhid = nhid\n",
    "        self.init_weights()\n",
    "\n",
    "    def generate_square_subsequent_mask(self, sz):\n",
    "        mask = (torch.triu(torch.ones(sz, sz)) == 1).transpose(0, 1)\n",
    "        mask = (\n",
    "            mask.float()\n",
    "            .masked_fill(mask == 0, float(\"-inf\"))\n",
    "            .masked_fill(mask == 1, float(0.0))\n",
    "        )\n",
    "        return mask\n",
    "\n",
    "    def init_weights(self):\n",
    "        initrange = 0.1\n",
    "        self.encoder.weight.data.uniform_(-initrange, initrange)\n",
    "\n",
    "    def forward(self, src, src_mask):\n",
    "        src = self.encoder(src) * math.sqrt(self.nhid)\n",
    "        src = self.pos_encoder(src)\n",
    "        output = self.transformer_encoder(src, src_mask) #fill me\n",
    "        return output\n",
    "\n",
    "\n",
    "class ClassificationHead(nn.Module):\n",
    "    def __init__(self, nhid, nclasses):\n",
    "        super(ClassificationHead, self).__init__()\n",
    "        self.decoder = nn.Linear(nhid, nclasses)#fill me)\n",
    "        self.init_weights()\n",
    "\n",
    "    def init_weights(self):\n",
    "        initrange = 0.1\n",
    "        self.decoder.bias.data.zero_()\n",
    "        self.decoder.weight.data.uniform_(-initrange, initrange)\n",
    "\n",
    "    def forward(self, src):\n",
    "        output = self.decoder(src)\n",
    "        return output\n",
    "\n",
    "class Model(nn.Module):\n",
    "    def __init__(self, ntoken, nhead, nhid, nlayers, nclasses, dropout=0.5):\n",
    "        super(Model, self).__init__()\n",
    "        self.base = TransformerModel(ntoken, nhead, nhid, nlayers, dropout) #fill me\n",
    "        self.classifier = ClassificationHead(nhid, nclasses)#fill me\n",
    "\n",
    "    def forward(self, src, src_mask):\n",
    "        # base model\n",
    "        x = self.base(src, src_mask) #fill me\n",
    "        # classifier model\n",
    "        output = self.classifier(x) #fill me\n",
    "        return output"
   ]
  },
  {
   "cell_type": "code",
   "execution_count": 3,
   "metadata": {
    "id": "kt2QQohaFZry"
   },
   "outputs": [],
   "source": [
    "class PositionalEncoding(nn.Module):\n",
    "    def __init__(self, nhid, dropout=0.1, max_len=5000):\n",
    "        super(PositionalEncoding, self).__init__()\n",
    "        self.dropout = nn.Dropout(p=dropout)\n",
    "\n",
    "        pe = torch.zeros(max_len, nhid)\n",
    "        position = torch.arange(0, max_len, dtype=torch.float).unsqueeze(1)\n",
    "        div_term = torch.exp(\n",
    "            torch.arange(0, nhid, 2).float() * (-math.log(10000.0) / nhid)\n",
    "        )\n",
    "        pe[:, 0::2] = torch.sin(position * div_term)\n",
    "        pe[:, 1::2] = torch.cos(position * div_term)\n",
    "        pe = pe.unsqueeze(0).transpose(0, 1)\n",
    "        self.register_buffer(\"pe\", pe)\n",
    "\n",
    "    def forward(self, x):\n",
    "        x = x + self.pe[: x.size(0), :]\n",
    "        return self.dropout(x)"
   ]
  },
  {
   "cell_type": "markdown",
   "metadata": {
    "id": "SfEYHJx2JW6l"
   },
   "source": [
    "Let's verify if our model works, by applying one inference step"
   ]
  },
  {
   "cell_type": "code",
   "execution_count": 4,
   "metadata": {
    "id": "rhb2gkUhJMR0"
   },
   "outputs": [
    {
     "name": "stderr",
     "output_type": "stream",
     "text": [
      "/home/cosmight/.local/lib/python3.10/site-packages/torch/nn/modules/transformer.py:307: UserWarning: enable_nested_tensor is True, but self.use_nested_tensor is False because encoder_layer.self_attn.batch_first was not True(use batch_first for better inference performance)\n",
      "  warnings.warn(f\"enable_nested_tensor is True, but self.use_nested_tensor is False because {why_not_sparsity_fast_path}\")\n"
     ]
    },
    {
     "name": "stdout",
     "output_type": "stream",
     "text": [
      "torch.Size([1, 6, 100])\n"
     ]
    }
   ],
   "source": [
    "ntokens = 100 # the size of vocabulary\n",
    "nhid = 200  # hidden dimension\n",
    "nlayers = 4  # the number of nn.TransformerEncoderLayer in nn.TransformerEncoder\n",
    "nhead = 2  # the number of heads in the multiheadattention models\n",
    "dropout = 0  # the dropout value\n",
    "\n",
    "model = Model(ntokens, nhead, nhid, nlayers, ntokens, dropout).to(device)\n",
    "dummy_input = torch.tensor([[2, 6, 2, 5, 43, 21]]).to(device)\n",
    "src_mask = model.base.generate_square_subsequent_mask(1).to(device)\n",
    "out = model.forward(dummy_input, src_mask)\n",
    "\n",
    "print(out.shape) # is it the right shape?"
   ]
  },
  {
   "cell_type": "markdown",
   "metadata": {
    "id": "i74NN897Fcit"
   },
   "source": [
    "## Vocabulary and Tokenization"
   ]
  },
  {
   "cell_type": "code",
   "execution_count": 5,
   "metadata": {
    "id": "5qjd26ghWuff"
   },
   "outputs": [
    {
     "name": "stdout",
     "output_type": "stream",
     "text": [
      "--2024-10-18 23:17:51--  https://raw.githubusercontent.com/moussaKam/transfer_learning_transformers/main/dict.txt\n",
      "Résolution de raw.githubusercontent.com (raw.githubusercontent.com)… 185.199.108.133, 185.199.109.133, 185.199.110.133, ...\n",
      "Connexion à raw.githubusercontent.com (raw.githubusercontent.com)|185.199.108.133|:443… connecté.\n",
      "requête HTTP transmise, en attente de la réponse… 200 OK\n",
      "Taille : 577587 (564K) [text/plain]\n",
      "Enregistre : ‘dict.txt.4’\n",
      "\n",
      "dict.txt.4          100%[===================>] 564,05K  --.-KB/s    ds 0,05s   \n",
      "\n",
      "2024-10-18 23:17:51 (10,8 MB/s) - ‘dict.txt.4’ enregistré [577587/577587]\n",
      "\n",
      "▁d 1\n",
      "es 1\n",
      "▁l 1\n",
      "en 1\n",
      "on 1\n"
     ]
    }
   ],
   "source": [
    "!wget https://raw.githubusercontent.com/moussaKam/transfer_learning_transformers/main/dict.txt\n",
    "!head -5 dict.txt"
   ]
  },
  {
   "cell_type": "code",
   "execution_count": 6,
   "metadata": {
    "id": "vFdH_-JeFbGA"
   },
   "outputs": [
    {
     "name": "stdout",
     "output_type": "stream",
     "text": [
      "▁trop\n"
     ]
    }
   ],
   "source": [
    "path_vocab = \"dict.txt\"\n",
    "token2ind = {\"<sos>\": 0, \"<pad>\": 1, \"<eos>\": 2, \"<oov>\": 3} # the 4 first indices are reserved to special tokens\n",
    "with open(path_vocab, \"r\") as f:\n",
    "    for idx, line in enumerate(f):\n",
    "        word = line.split()[0].strip()\n",
    "        token2ind[word] = idx + 4 #fill me\n",
    "\n",
    "ind2token = {index: word for word, index in token2ind.items()} #fill me\n",
    "\n",
    "print(ind2token[1111])"
   ]
  },
  {
   "cell_type": "markdown",
   "metadata": {
    "id": "XOExGODajN8p"
   },
   "source": [
    "### Data Loader\n"
   ]
  },
  {
   "cell_type": "code",
   "execution_count": 7,
   "metadata": {
    "id": "Y0jN-Ar9i5Q1"
   },
   "outputs": [],
   "source": [
    "import numpy\n",
    "import torch\n",
    "from torch.nn.utils.rnn import pad_sequence\n",
    "from torch.utils.data import DataLoader, Dataset\n",
    "\n",
    "\n",
    "class Dataset(Dataset):\n",
    "    def __init__(\n",
    "        self,\n",
    "        path_documents,\n",
    "        path_labels=None,\n",
    "        token2ind={},\n",
    "        max_len=512,\n",
    "        task=\"language_modeling\",\n",
    "    ):\n",
    "        self.task = task\n",
    "        self.max_len = max_len\n",
    "        self.token2ind = token2ind\n",
    "        self.documents = []\n",
    "        self.labels = []\n",
    "        with open(path_documents, \"r\") as f1:\n",
    "            for line in f1:\n",
    "                self.documents.append(line.strip())\n",
    "        if task == \"classification\":\n",
    "            with open(path_labels, \"r\") as f1:\n",
    "                for line in f1:\n",
    "                    self.labels.append(int(line.strip()))\n",
    "            assert len(self.labels) == len(self.documents)\n",
    "\n",
    "    def __len__(self):\n",
    "        return len(self.documents)\n",
    "\n",
    "    def __getitem__(self, index):\n",
    "        sequence = self.documents[index].split()\n",
    "        if len(sequence) > self.max_len - 1:\n",
    "            sequence = sequence[: self.max_len - 1]\n",
    "        source_sequence =  [self.token2ind[\"<sos>\"]] + [\n",
    "            self.token2ind.get(word, self.token2ind[\"<oov>\"]) for word in sequence] #fill me (constract the input sequence using token2ind, sequence and special tokens)\n",
    "        if self.task == \"language_modeling\":\n",
    "            target = source_sequence[1:]\n",
    "            target.append(self.token2ind[\"<eos>\"])\n",
    "        elif self.task == \"classification\":\n",
    "            target = [self.labels[index]]\n",
    "        sample = {\n",
    "            \"source_sequence\": torch.tensor(source_sequence),\n",
    "            \"target\": torch.tensor(target),\n",
    "        }\n",
    "        return sample\n",
    "\n",
    "\n",
    "def MyCollator(batch):\n",
    "    source_sequences = pad_sequence(\n",
    "        #we use padding to match the length of the sequences in the same batch\n",
    "        [sample[\"source_sequence\"] for sample in batch], padding_value=token2ind[\"<pad>\"]\n",
    "    )\n",
    "    target = pad_sequence(\n",
    "        [sample[\"target\"] for sample in batch], padding_value=token2ind[\"<pad>\"]\n",
    "    )\n",
    "    return source_sequences, target.reshape(-1)\n",
    "\n",
    "\n",
    "def get_loader(\n",
    "    path_documents,\n",
    "    path_labels=None,\n",
    "    token2ind={},\n",
    "    max_len=512,\n",
    "    batch_size=32,\n",
    "    task=\"language_modeling\",\n",
    "):\n",
    "    dataset = Dataset(\n",
    "        path_documents,\n",
    "        path_labels=path_labels,\n",
    "        token2ind=token2ind,\n",
    "        max_len=512,\n",
    "        task=task,\n",
    "    )\n",
    "    data_loader = DataLoader(\n",
    "        dataset=dataset,\n",
    "        batch_size=batch_size,\n",
    "        shuffle=True,\n",
    "        collate_fn=MyCollator,\n",
    "        pin_memory=True,\n",
    "        drop_last=True,\n",
    "    )\n",
    "    return data_loader"
   ]
  },
  {
   "cell_type": "markdown",
   "metadata": {
    "id": "uTns4lHrjUTa"
   },
   "source": [
    "## The Training"
   ]
  },
  {
   "cell_type": "code",
   "execution_count": 8,
   "metadata": {
    "id": "4_jwosiLjRsS"
   },
   "outputs": [],
   "source": [
    "def train(\n",
    "    path_data_train,\n",
    "    path_labels_train=None,\n",
    "    path_data_valid=None,\n",
    "    save_interval=-1,\n",
    "    log_interval=5,\n",
    "    task=\"language_modeling\",\n",
    "    batch_size=32,\n",
    "):\n",
    "    model.train()\n",
    "    total_loss = 0.0\n",
    "    ntokens = len(token2ind)\n",
    "    data_loader = get_loader(\n",
    "        path_data_train,\n",
    "        path_labels_train,\n",
    "        token2ind,\n",
    "        task=task,\n",
    "        batch_size=batch_size,\n",
    "    )\n",
    "\n",
    "    losses = []\n",
    "    for idx, data in enumerate(data_loader): #step 1\n",
    "        optimizer.zero_grad()\n",
    "        src_mask = model.base.generate_square_subsequent_mask(data[0].size(0)).to(\n",
    "            device\n",
    "        )\n",
    "        input = data[0].to(device)\n",
    "        output = model(input, src_mask) #step 2\n",
    "        if task == 'classification':\n",
    "            #last vector only\n",
    "            output = output[-1, :] #fill me\n",
    "        output = output.view(-1, output.shape[-1])\n",
    "        target = data[1]  #fill me\n",
    "        target = target.to(device)\n",
    "        loss =  criterion(output, target) #fill me, Cross entropy check next cells\n",
    "        #fill me step 3\n",
    "        loss.backward()\n",
    "        torch.nn.utils.clip_grad_norm_(model.parameters(), 0.5) # prevent exploding gradient\n",
    "        #fill me step 4\n",
    "        optimizer.step()\n",
    "        \n",
    "        total_loss += loss.item()\n",
    "        if idx % log_interval == 0 and idx > 0:\n",
    "            cur_loss = total_loss / log_interval\n",
    "            print(\n",
    "                \"| epoch {:3d} | {:5d}/{:5d} steps | \"\n",
    "                \"loss {:5.5f} | ppl {:8.3f}\".format(\n",
    "                    epoch, idx, len(data_loader), cur_loss, math.exp(cur_loss),\n",
    "                )\n",
    "            )\n",
    "            losses.append(cur_loss)\n",
    "            total_loss = 0\n",
    "    return losses"
   ]
  },
  {
   "cell_type": "code",
   "execution_count": 9,
   "metadata": {
    "id": "pgf6BDB9jUr6"
   },
   "outputs": [],
   "source": [
    "ntokens = len(token2ind)#fill me # the size of vocabulary\n",
    "nhid = 200  # the dimension of the feedforward network model in nn.TransformerEncoder\n",
    "nlayers = 4  # the number of nn.TransformerEncoderLayer in nn.TransformerEncoder\n",
    "nhead = 2  # the number of heads in the multiheadattention models\n",
    "dropout = 0  # the dropout value\n",
    "\n",
    "nclasses = 2 # for classification task only\n",
    "\n",
    "model = Model(ntokens, nhead, nhid, nlayers, ntokens, dropout).to(device)"
   ]
  },
  {
   "cell_type": "code",
   "execution_count": 10,
   "metadata": {
    "id": "u-OLy4KIkDwf"
   },
   "outputs": [],
   "source": [
    "# optimization paramerters\n",
    "\n",
    "criterion = nn.CrossEntropyLoss(ignore_index=token2ind['<pad>'])\n",
    "lr = 0.0003  # learning rate\n",
    "optimizer = torch.optim.Adam(model.parameters(), lr=lr)"
   ]
  },
  {
   "cell_type": "code",
   "execution_count": 11,
   "metadata": {
    "id": "Bwh3n9xZQy4e"
   },
   "outputs": [
    {
     "name": "stdout",
     "output_type": "stream",
     "text": [
      "--2024-10-18 23:18:15--  https://raw.githubusercontent.com/moussaKam/transfer_learning_transformers/main/pretraining_subset.txt\n",
      "Résolution de raw.githubusercontent.com (raw.githubusercontent.com)… 185.199.108.133, 185.199.109.133, 185.199.110.133, ...\n",
      "Connexion à raw.githubusercontent.com (raw.githubusercontent.com)|185.199.108.133|:443… connecté.\n",
      "requête HTTP transmise, en attente de la réponse… 200 OK\n",
      "Taille : 10146460 (9,7M) [text/plain]\n",
      "Enregistre : ‘pretraining_subset.txt.3’\n",
      "\n",
      "pretraining_subset. 100%[===================>]   9,68M  7,57MB/s    ds 1,3s    \n",
      "\n",
      "2024-10-18 23:18:17 (7,57 MB/s) - ‘pretraining_subset.txt.3’ enregistré [10146460/10146460]\n",
      "\n"
     ]
    }
   ],
   "source": [
    "!wget https://raw.githubusercontent.com/moussaKam/transfer_learning_transformers/main/pretraining_subset.txt\n",
    "path_data_train = \"pretraining_subset.txt\""
   ]
  },
  {
   "cell_type": "code",
   "execution_count": 12,
   "metadata": {
    "id": "0m11g4ScjZaR"
   },
   "outputs": [
    {
     "name": "stdout",
     "output_type": "stream",
     "text": [
      "| epoch   1 |   500/ 3125 steps | loss 7.32350 | ppl 1515.499\n",
      "| epoch   1 |  1000/ 3125 steps | loss 6.56301 | ppl  708.400\n",
      "| epoch   1 |  1500/ 3125 steps | loss 6.25922 | ppl  522.811\n",
      "| epoch   1 |  2000/ 3125 steps | loss 6.10002 | ppl  445.866\n",
      "| epoch   1 |  2500/ 3125 steps | loss 5.97152 | ppl  392.102\n",
      "| epoch   1 |  3000/ 3125 steps | loss 5.89153 | ppl  361.957\n",
      "| epoch   2 |   500/ 3125 steps | loss 5.60997 | ppl  273.135\n",
      "| epoch   2 |  1000/ 3125 steps | loss 5.56135 | ppl  260.175\n",
      "| epoch   2 |  1500/ 3125 steps | loss 5.52308 | ppl  250.405\n",
      "| epoch   2 |  2000/ 3125 steps | loss 5.52359 | ppl  250.532\n",
      "| epoch   2 |  2500/ 3125 steps | loss 5.46692 | ppl  236.730\n",
      "| epoch   2 |  3000/ 3125 steps | loss 5.43440 | ppl  229.156\n"
     ]
    }
   ],
   "source": [
    "#pretraining on a tiny subset\n",
    "log_interval = 500\n",
    "epochs = 2\n",
    "for epoch in range(1, epochs + 1): #5\n",
    "    train(\n",
    "        path_data_train,\n",
    "        save_interval=-1,\n",
    "        task= \"language_modeling\",  # fill me\n",
    "        batch_size=16,\n",
    "        log_interval=log_interval,\n",
    "    )"
   ]
  },
  {
   "cell_type": "markdown",
   "metadata": {
    "id": "MeOM1dOvkO4e"
   },
   "source": [
    "## Text Generation\n"
   ]
  },
  {
   "cell_type": "code",
   "execution_count": 15,
   "metadata": {
    "id": "-BcBC6FSkMH3"
   },
   "outputs": [
    {
     "name": "stdout",
     "output_type": "stream",
     "text": [
      "--2024-10-19 00:33:31--  https://raw.githubusercontent.com/moussaKam/transfer_learning_transformers/main/pretrained_model_4layers.pt\n",
      "Résolution de raw.githubusercontent.com (raw.githubusercontent.com)… 185.199.111.133, 185.199.110.133, 185.199.109.133, ...\n",
      "Connexion à raw.githubusercontent.com (raw.githubusercontent.com)|185.199.111.133|:443… connecté.\n",
      "requête HTTP transmise, en attente de la réponse… 200 OK\n",
      "Taille : 88093955 (84M) [application/octet-stream]\n",
      "Enregistre : ‘pretrained_model_4layers.pt.2’\n",
      "\n",
      "pretrained_model_4l 100%[===================>]  84,01M  9,77MB/s    ds 7,7s    \n",
      "\n",
      "2024-10-19 00:33:39 (10,9 MB/s) - ‘pretrained_model_4layers.pt.2’ enregistré [88093955/88093955]\n",
      "\n"
     ]
    },
    {
     "data": {
      "text/plain": [
       "<All keys matched successfully>"
      ]
     },
     "execution_count": 15,
     "metadata": {},
     "output_type": "execute_result"
    }
   ],
   "source": [
    "!wget https://raw.githubusercontent.com/moussaKam/transfer_learning_transformers/main/pretrained_model_4layers.pt\n",
    "\n",
    "model = Model(ntokens, nhead, nhid, nlayers, ntokens).to(device)\n",
    "\n",
    "#load the checkpoint\n",
    "checkpoint = torch.load('pretrained_model_4layers.pt', weights_only=True)\n",
    "#load state dict\n",
    "model.load_state_dict(checkpoint['model_state_dict'])"
   ]
  },
  {
   "cell_type": "code",
   "execution_count": 17,
   "metadata": {
    "id": "tBRRVsWqlIoQ"
   },
   "outputs": [
    {
     "name": "stdout",
     "output_type": "stream",
     "text": [
      "Defaulting to user installation because normal site-packages is not writeable\n",
      "Collecting sentencepiece\n",
      "  Downloading sentencepiece-0.2.0-cp310-cp310-manylinux_2_17_x86_64.manylinux2014_x86_64.whl.metadata (7.7 kB)\n",
      "Downloading sentencepiece-0.2.0-cp310-cp310-manylinux_2_17_x86_64.manylinux2014_x86_64.whl (1.3 MB)\n",
      "\u001b[2K   \u001b[90m━━━━━━━━━━━━━━━━━━━━━━━━━━━━━━━━━━━━━━━━\u001b[0m \u001b[32m1.3/1.3 MB\u001b[0m \u001b[31m8.7 MB/s\u001b[0m eta \u001b[36m0:00:00\u001b[0m\n",
      "\u001b[?25hInstalling collected packages: sentencepiece\n",
      "Successfully installed sentencepiece-0.2.0\n",
      "--2024-10-19 00:34:55--  https://raw.githubusercontent.com/moussaKam/transfer_learning_transformers/main/sentencepiece.french.model\n",
      "Résolution de raw.githubusercontent.com (raw.githubusercontent.com)… 185.199.109.133, 185.199.108.133, 185.199.111.133, ...\n",
      "Connexion à raw.githubusercontent.com (raw.githubusercontent.com)|185.199.109.133|:443… connecté.\n",
      "requête HTTP transmise, en attente de la réponse… 200 OK\n",
      "Taille : 1115362 (1,1M) [application/octet-stream]\n",
      "Enregistre : ‘sentencepiece.french.model.2’\n",
      "\n",
      "sentencepiece.frenc 100%[===================>]   1,06M  --.-KB/s    ds 0,1s    \n",
      "\n",
      "2024-10-19 00:34:55 (9,68 MB/s) - ‘sentencepiece.french.model.2’ enregistré [1115362/1115362]\n",
      "\n",
      "['▁Bonjour', '▁les', '▁amis', '!']\n",
      "Bonjour les amis!\n"
     ]
    }
   ],
   "source": [
    "!pip install sentencepiece   # uncomment this if you are using google colab\n",
    "!wget https://raw.githubusercontent.com/moussaKam/transfer_learning_transformers/main/sentencepiece.french.model\n",
    "\n",
    "import sentencepiece as spm\n",
    "\n",
    "s = spm.SentencePieceProcessor(model_file='sentencepiece.french.model') #load sentencepiece model\n",
    "\n",
    "#examples\n",
    "encoded = s.encode_as_pieces(\"Bonjour les amis!\")\n",
    "decoded = s.decode_pieces(encoded)\n",
    "print(encoded)\n",
    "print(decoded)"
   ]
  },
  {
   "cell_type": "code",
   "execution_count": 18,
   "metadata": {
    "id": "TtLlV05pkQI3"
   },
   "outputs": [],
   "source": [
    "def infer_next_token(sent):\n",
    "    model.eval()\n",
    "    sent_pieces = s.encode_as_pieces(sent)\n",
    "    source = [token2ind['<sos>']] + [token2ind[el] for el in sent_pieces] # list of tokens\n",
    "    source = torch.tensor(source).to(device)\n",
    "    source = source.reshape(-1, 1)\n",
    "    src_mask = model.base.generate_square_subsequent_mask(source.size(0)).to(device)\n",
    "    out = model(source, src_mask)\n",
    "    next_token_ind = torch.argmax(out, axis=-1)[-1, 0] #fill me\n",
    "    return next_token_ind, out\n",
    "\n",
    "def infer_next_tokens(sent, max_len=50):\n",
    "    # to be implemented\n",
    "    se = spm.SentencePieceProcessor(model_file=\"sentencepiece.french.model\")\n",
    "    s_pieces = se.encode_as_pieces(sent)\n",
    "    n = len(s_pieces)\n",
    "    for _ in range(len(s_pieces), max_len):\n",
    "        new_token = infer_next_token(s.decode_pieces(s_pieces))[0].item()\n",
    "        if new_token == token2ind[\"<eos>\"]:\n",
    "            break\n",
    "        s_pieces += ind2token[new_token]\n",
    "    final_sent= s.decode_pieces(s_pieces) \n",
    "    return final_sent"
   ]
  },
  {
   "cell_type": "code",
   "execution_count": 19,
   "metadata": {
    "id": "f83Nn5nSly4v"
   },
   "outputs": [
    {
     "data": {
      "text/plain": [
       "'Bonjour les gens qui ont été très accueillants et sympathiques.'"
      ]
     },
     "execution_count": 19,
     "metadata": {},
     "output_type": "execute_result"
    }
   ],
   "source": [
    "sent = \"Bonjour les\"\n",
    "infer_next_tokens(sent)"
   ]
  },
  {
   "cell_type": "markdown",
   "metadata": {
    "id": "Lp7mjVzomoZ3"
   },
   "source": [
    "### Supervised task"
   ]
  },
  {
   "cell_type": "code",
   "execution_count": 20,
   "metadata": {
    "id": "0K1BZsblmEmx"
   },
   "outputs": [
    {
     "name": "stdout",
     "output_type": "stream",
     "text": [
      "--2024-10-19 00:36:02--  https://raw.githubusercontent.com/moussaKam/transfer_learning_transformers/main/cls-books/train.review.spm\n",
      "Résolution de raw.githubusercontent.com (raw.githubusercontent.com)… 185.199.110.133, 185.199.109.133, 185.199.108.133, ...\n",
      "Connexion à raw.githubusercontent.com (raw.githubusercontent.com)|185.199.110.133|:443… connecté.\n",
      "requête HTTP transmise, en attente de la réponse… 200 OK\n",
      "Taille : 1495960 (1,4M) [text/plain]\n",
      "Enregistre : ‘train.review.spm’\n",
      "\n",
      "train.review.spm    100%[===================>]   1,43M  --.-KB/s    ds 0,1s    \n",
      "\n",
      "2024-10-19 00:36:02 (13,8 MB/s) - ‘train.review.spm’ enregistré [1495960/1495960]\n",
      "\n",
      "--2024-10-19 00:36:02--  https://raw.githubusercontent.com/moussaKam/transfer_learning_transformers/main/cls-books/train.label\n",
      "Résolution de raw.githubusercontent.com (raw.githubusercontent.com)… 185.199.111.133, 185.199.110.133, 185.199.109.133, ...\n",
      "Connexion à raw.githubusercontent.com (raw.githubusercontent.com)|185.199.111.133|:443… connecté.\n",
      "requête HTTP transmise, en attente de la réponse… 200 OK\n",
      "Taille : 3200 (3,1K) [text/plain]\n",
      "Enregistre : ‘train.label’\n",
      "\n",
      "train.label         100%[===================>]   3,12K  --.-KB/s    ds 0,001s  \n",
      "\n",
      "2024-10-19 00:36:02 (3,75 MB/s) - ‘train.label’ enregistré [3200/3200]\n",
      "\n",
      "--2024-10-19 00:36:02--  https://raw.githubusercontent.com/moussaKam/transfer_learning_transformers/main/cls-books/test.review.spm\n",
      "Résolution de raw.githubusercontent.com (raw.githubusercontent.com)… 185.199.108.133, 185.199.111.133, 185.199.110.133, ...\n",
      "Connexion à raw.githubusercontent.com (raw.githubusercontent.com)|185.199.108.133|:443… connecté.\n",
      "requête HTTP transmise, en attente de la réponse… 200 OK\n",
      "Taille : 1864544 (1,8M) [text/plain]\n",
      "Enregistre : ‘test.review.spm’\n",
      "\n",
      "test.review.spm     100%[===================>]   1,78M  10,1MB/s    ds 0,2s    \n",
      "\n",
      "2024-10-19 00:36:03 (10,1 MB/s) - ‘test.review.spm’ enregistré [1864544/1864544]\n",
      "\n",
      "--2024-10-19 00:36:03--  https://raw.githubusercontent.com/moussaKam/transfer_learning_transformers/main/cls-books/test.label\n",
      "Résolution de raw.githubusercontent.com (raw.githubusercontent.com)… 185.199.109.133, 185.199.108.133, 185.199.111.133, ...\n",
      "Connexion à raw.githubusercontent.com (raw.githubusercontent.com)|185.199.109.133|:443… connecté.\n",
      "requête HTTP transmise, en attente de la réponse… 200 OK\n",
      "Taille : 4000 (3,9K) [text/plain]\n",
      "Enregistre : ‘test.label’\n",
      "\n",
      "test.label          100%[===================>]   3,91K  --.-KB/s    ds 0,001s  \n",
      "\n",
      "2024-10-19 00:36:03 (3,04 MB/s) - ‘test.label’ enregistré [4000/4000]\n",
      "\n"
     ]
    }
   ],
   "source": [
    "!wget https://raw.githubusercontent.com/moussaKam/transfer_learning_transformers/main/cls-books/train.review.spm\n",
    "!wget https://raw.githubusercontent.com/moussaKam/transfer_learning_transformers/main/cls-books/train.label\n",
    "!wget https://raw.githubusercontent.com/moussaKam/transfer_learning_transformers/main/cls-books/test.review.spm\n",
    "!wget https://raw.githubusercontent.com/moussaKam/transfer_learning_transformers/main/cls-books/test.label\n",
    "\n",
    "path_data_train = \"train.review.spm\"\n",
    "path_labels_train = \"train.label\"\n",
    "\n",
    "path_data_valid = \"test.review.spm\"\n",
    "path_labels_valid = \"test.label\""
   ]
  },
  {
   "cell_type": "code",
   "execution_count": 24,
   "metadata": {
    "id": "_MLfvjiom2SL"
   },
   "outputs": [],
   "source": [
    "# a function to evaluate the validation accuracy of the model.\n",
    "def evaluate_accuracy(data_loader):\n",
    "    #to be implemented\n",
    "    model.eval()\n",
    "    total_correct = 0\n",
    "    total_count = 0\n",
    "\n",
    "    # Disable gradient calculations during evaluation\n",
    "    with torch.no_grad():\n",
    "        for batch_index, batch_data in enumerate(data_loader):\n",
    "            # Generate a square subsequent mask\n",
    "            sequence_mask = model.base.generate_square_subsequent_mask(batch_data[0].size(0)).to(device)\n",
    "            \n",
    "            # Extract inputs\n",
    "            inputs = batch_data[0].to(device)\n",
    "            targets = batch_data[1].to(device)\n",
    "            \n",
    "            # Evaluate the inputs with the model\n",
    "            predictions = model(inputs, sequence_mask)\n",
    "            \n",
    "            #Get the predicted tokens using argmax of model's prediction\n",
    "            predicted_tokens = torch.argmax(predictions[-1, :], dim=-1)\n",
    "            \n",
    "            total_count += targets.size(0)\n",
    "            total_correct += torch.sum(predicted_tokens == targets)\n",
    "\n",
    "    # Compute the accuracy\n",
    "    accuracy_score = total_correct / total_count\n",
    "    print(f\"Model Accuracy: {accuracy_score:.4f}\")\n",
    "    \n",
    "    return accuracy_score"
   ]
  },
  {
   "cell_type": "code",
   "execution_count": 25,
   "metadata": {
    "id": "qzmx7T7xoa6v"
   },
   "outputs": [],
   "source": [
    "#save the base model to be loaded later in the fine-tuning phase\n",
    "torch.save({\"model_state_dict\": model.base.state_dict(),}, \"pretrained_model_4layers_no_class_head.pt\")"
   ]
  },
  {
   "cell_type": "code",
   "execution_count": 26,
   "metadata": {
    "id": "i-xclMCpnVpw"
   },
   "outputs": [
    {
     "name": "stdout",
     "output_type": "stream",
     "text": [
      "=====Trainig FROM SCRATCH======\n",
      "| epoch   1 |    50/  200 steps | loss 0.77938 | ppl    2.180\n",
      "| epoch   1 |   100/  200 steps | loss 0.75541 | ppl    2.128\n",
      "| epoch   1 |   150/  200 steps | loss 0.72009 | ppl    2.055\n",
      "Model Accuracy: 0.5590\n",
      "| epoch   2 |    50/  200 steps | loss 0.67961 | ppl    1.973\n",
      "| epoch   2 |   100/  200 steps | loss 0.65394 | ppl    1.923\n",
      "| epoch   2 |   150/  200 steps | loss 0.63885 | ppl    1.894\n",
      "Model Accuracy: 0.6890\n",
      "| epoch   3 |    50/  200 steps | loss 0.48744 | ppl    1.628\n",
      "| epoch   3 |   100/  200 steps | loss 0.50932 | ppl    1.664\n",
      "| epoch   3 |   150/  200 steps | loss 0.37395 | ppl    1.453\n",
      "Model Accuracy: 0.7430\n",
      "| epoch   4 |    50/  200 steps | loss 0.21225 | ppl    1.236\n",
      "| epoch   4 |   100/  200 steps | loss 0.28572 | ppl    1.331\n",
      "| epoch   4 |   150/  200 steps | loss 0.18985 | ppl    1.209\n",
      "Model Accuracy: 0.7445\n",
      "| epoch   5 |    50/  200 steps | loss 0.12797 | ppl    1.137\n",
      "| epoch   5 |   100/  200 steps | loss 0.05429 | ppl    1.056\n",
      "| epoch   5 |   150/  200 steps | loss 0.06059 | ppl    1.062\n",
      "Model Accuracy: 0.7540\n",
      "| epoch   6 |    50/  200 steps | loss 0.04427 | ppl    1.045\n",
      "| epoch   6 |   100/  200 steps | loss 0.04465 | ppl    1.046\n",
      "| epoch   6 |   150/  200 steps | loss 0.05017 | ppl    1.051\n",
      "Model Accuracy: 0.7445\n",
      "| epoch   7 |    50/  200 steps | loss 0.01689 | ppl    1.017\n",
      "| epoch   7 |   100/  200 steps | loss 0.06483 | ppl    1.067\n",
      "| epoch   7 |   150/  200 steps | loss 0.00198 | ppl    1.002\n",
      "Model Accuracy: 0.7550\n",
      "| epoch   8 |    50/  200 steps | loss 0.02747 | ppl    1.028\n",
      "| epoch   8 |   100/  200 steps | loss 0.02695 | ppl    1.027\n",
      "| epoch   8 |   150/  200 steps | loss 0.03607 | ppl    1.037\n",
      "Model Accuracy: 0.7500\n",
      "| epoch   9 |    50/  200 steps | loss 0.01337 | ppl    1.013\n",
      "| epoch   9 |   100/  200 steps | loss 0.00088 | ppl    1.001\n",
      "| epoch   9 |   150/  200 steps | loss 0.01425 | ppl    1.014\n",
      "Model Accuracy: 0.7575\n",
      "| epoch  10 |    50/  200 steps | loss 0.00004 | ppl    1.000\n",
      "| epoch  10 |   100/  200 steps | loss 0.00050 | ppl    1.001\n",
      "| epoch  10 |   150/  200 steps | loss 0.00024 | ppl    1.000\n",
      "Model Accuracy: 0.7495\n",
      "| epoch  11 |    50/  200 steps | loss 0.06527 | ppl    1.067\n",
      "| epoch  11 |   100/  200 steps | loss 0.00884 | ppl    1.009\n",
      "| epoch  11 |   150/  200 steps | loss 0.00003 | ppl    1.000\n",
      "Model Accuracy: 0.7495\n",
      "| epoch  12 |    50/  200 steps | loss 0.00001 | ppl    1.000\n",
      "| epoch  12 |   100/  200 steps | loss 0.00812 | ppl    1.008\n",
      "| epoch  12 |   150/  200 steps | loss 0.04529 | ppl    1.046\n",
      "Model Accuracy: 0.7495\n",
      "| epoch  13 |    50/  200 steps | loss 0.02485 | ppl    1.025\n",
      "| epoch  13 |   100/  200 steps | loss 0.01070 | ppl    1.011\n",
      "| epoch  13 |   150/  200 steps | loss 0.00115 | ppl    1.001\n",
      "Model Accuracy: 0.6965\n",
      "| epoch  14 |    50/  200 steps | loss 0.06613 | ppl    1.068\n",
      "| epoch  14 |   100/  200 steps | loss 0.03943 | ppl    1.040\n",
      "| epoch  14 |   150/  200 steps | loss 0.03552 | ppl    1.036\n",
      "Model Accuracy: 0.7245\n",
      "| epoch  15 |    50/  200 steps | loss 0.04213 | ppl    1.043\n",
      "| epoch  15 |   100/  200 steps | loss 0.03161 | ppl    1.032\n",
      "| epoch  15 |   150/  200 steps | loss 0.03826 | ppl    1.039\n",
      "Model Accuracy: 0.7270\n",
      "\n",
      "=====PRETRAINED MODEL======\n"
     ]
    },
    {
     "name": "stderr",
     "output_type": "stream",
     "text": [
      "/tmp/ipykernel_152/89992632.py:14: FutureWarning: You are using `torch.load` with `weights_only=False` (the current default value), which uses the default pickle module implicitly. It is possible to construct malicious pickle data which will execute arbitrary code during unpickling (See https://github.com/pytorch/pytorch/blob/main/SECURITY.md#untrusted-models for more details). In a future release, the default value for `weights_only` will be flipped to `True`. This limits the functions that could be executed during unpickling. Arbitrary objects will no longer be allowed to be loaded via this mode unless they are explicitly allowlisted by the user via `torch.serialization.add_safe_globals`. We recommend you start setting `weights_only=True` for any use case where you don't have full control of the loaded file. Please open an issue on GitHub for any issues related to this experimental feature.\n",
      "  checkpoint = torch.load(\"pretrained_model_4layers_no_class_head.pt\")\n"
     ]
    },
    {
     "name": "stdout",
     "output_type": "stream",
     "text": [
      "| epoch   1 |    50/  200 steps | loss 0.69271 | ppl    1.999\n",
      "| epoch   1 |   100/  200 steps | loss 0.69441 | ppl    2.003\n",
      "| epoch   1 |   150/  200 steps | loss 0.63676 | ppl    1.890\n",
      "Model Accuracy: 0.6410\n",
      "| epoch   2 |    50/  200 steps | loss 0.57659 | ppl    1.780\n",
      "| epoch   2 |   100/  200 steps | loss 0.52131 | ppl    1.684\n",
      "| epoch   2 |   150/  200 steps | loss 0.48223 | ppl    1.620\n",
      "Model Accuracy: 0.7460\n",
      "| epoch   3 |    50/  200 steps | loss 0.29839 | ppl    1.348\n",
      "| epoch   3 |   100/  200 steps | loss 0.27294 | ppl    1.314\n",
      "| epoch   3 |   150/  200 steps | loss 0.34747 | ppl    1.415\n",
      "Model Accuracy: 0.7650\n",
      "| epoch   4 |    50/  200 steps | loss 0.17793 | ppl    1.195\n",
      "| epoch   4 |   100/  200 steps | loss 0.12677 | ppl    1.135\n",
      "| epoch   4 |   150/  200 steps | loss 0.17784 | ppl    1.195\n",
      "Model Accuracy: 0.7235\n",
      "| epoch   5 |    50/  200 steps | loss 0.06032 | ppl    1.062\n",
      "| epoch   5 |   100/  200 steps | loss 0.11318 | ppl    1.120\n",
      "| epoch   5 |   150/  200 steps | loss 0.09661 | ppl    1.101\n",
      "Model Accuracy: 0.7510\n",
      "| epoch   6 |    50/  200 steps | loss 0.05053 | ppl    1.052\n",
      "| epoch   6 |   100/  200 steps | loss 0.01688 | ppl    1.017\n",
      "| epoch   6 |   150/  200 steps | loss 0.06765 | ppl    1.070\n",
      "Model Accuracy: 0.7555\n",
      "| epoch   7 |    50/  200 steps | loss 0.01772 | ppl    1.018\n",
      "| epoch   7 |   100/  200 steps | loss 0.03963 | ppl    1.040\n",
      "| epoch   7 |   150/  200 steps | loss 0.01214 | ppl    1.012\n",
      "Model Accuracy: 0.7600\n",
      "| epoch   8 |    50/  200 steps | loss 0.00782 | ppl    1.008\n",
      "| epoch   8 |   100/  200 steps | loss 0.01424 | ppl    1.014\n",
      "| epoch   8 |   150/  200 steps | loss 0.00283 | ppl    1.003\n",
      "Model Accuracy: 0.7645\n",
      "| epoch   9 |    50/  200 steps | loss 0.00002 | ppl    1.000\n",
      "| epoch   9 |   100/  200 steps | loss 0.00684 | ppl    1.007\n",
      "| epoch   9 |   150/  200 steps | loss 0.00014 | ppl    1.000\n",
      "Model Accuracy: 0.7510\n",
      "| epoch  10 |    50/  200 steps | loss 0.00678 | ppl    1.007\n",
      "| epoch  10 |   100/  200 steps | loss 0.00000 | ppl    1.000\n",
      "| epoch  10 |   150/  200 steps | loss 0.00261 | ppl    1.003\n",
      "Model Accuracy: 0.7495\n",
      "| epoch  11 |    50/  200 steps | loss 0.00775 | ppl    1.008\n",
      "| epoch  11 |   100/  200 steps | loss 0.01189 | ppl    1.012\n",
      "| epoch  11 |   150/  200 steps | loss 0.00002 | ppl    1.000\n",
      "Model Accuracy: 0.7685\n",
      "| epoch  12 |    50/  200 steps | loss 0.01426 | ppl    1.014\n",
      "| epoch  12 |   100/  200 steps | loss 0.02743 | ppl    1.028\n",
      "| epoch  12 |   150/  200 steps | loss 0.02868 | ppl    1.029\n",
      "Model Accuracy: 0.7225\n",
      "| epoch  13 |    50/  200 steps | loss 0.03567 | ppl    1.036\n",
      "| epoch  13 |   100/  200 steps | loss 0.05307 | ppl    1.055\n",
      "| epoch  13 |   150/  200 steps | loss 0.03609 | ppl    1.037\n",
      "Model Accuracy: 0.7630\n",
      "| epoch  14 |    50/  200 steps | loss 0.00097 | ppl    1.001\n",
      "| epoch  14 |   100/  200 steps | loss 0.00541 | ppl    1.005\n",
      "| epoch  14 |   150/  200 steps | loss 0.05738 | ppl    1.059\n",
      "Model Accuracy: 0.7235\n",
      "| epoch  15 |    50/  200 steps | loss 0.01567 | ppl    1.016\n",
      "| epoch  15 |   100/  200 steps | loss 0.04794 | ppl    1.049\n",
      "| epoch  15 |   150/  200 steps | loss 0.05264 | ppl    1.054\n",
      "Model Accuracy: 0.7580\n",
      "\n"
     ]
    }
   ],
   "source": [
    "from_scratch_settings = [True, False]\n",
    "\n",
    "from_scratch_valid_acc = []\n",
    "pretrained_valid_acc = []\n",
    "lr = 0.0001\n",
    "\n",
    "for from_scratch in from_scratch_settings:\n",
    "    model = Model(ntokens, nhead, nhid, nlayers, 2, dropout).to(device)\n",
    "    criterion = nn.CrossEntropyLoss()\n",
    "    optimizer = torch.optim.Adam(model.parameters(), lr=lr)\n",
    "    if not from_scratch:\n",
    "        print(\"=====PRETRAINED MODEL======\")\n",
    "        #load checkpoint\n",
    "        checkpoint = torch.load(\"pretrained_model_4layers_no_class_head.pt\")\n",
    "        #load state dict\n",
    "        model.base.load_state_dict(checkpoint['model_state_dict'])\n",
    "    else:\n",
    "        print(\"=====Trainig FROM SCRATCH======\")\n",
    "    epochs = 15\n",
    "    for epoch in range(1, epochs + 1):\n",
    "        train(\n",
    "            path_data_train,\n",
    "            path_labels_train,\n",
    "            save_interval=-1,\n",
    "            task='classification',\n",
    "            batch_size=8,\n",
    "            log_interval=50,\n",
    "        )\n",
    "        acc = evaluate_accuracy(\n",
    "            get_loader(\n",
    "                path_data_valid,\n",
    "                path_labels_valid,\n",
    "                token2ind=token2ind,\n",
    "                batch_size=20,\n",
    "                task='classification',\n",
    "            )\n",
    "        )\n",
    "        if from_scratch:\n",
    "            from_scratch_valid_acc.append(acc)\n",
    "        else:\n",
    "            pretrained_valid_acc.append(acc)\n",
    "    print()"
   ]
  },
  {
   "cell_type": "code",
   "execution_count": 41,
   "metadata": {},
   "outputs": [
    {
     "data": {
      "image/png": "[encoded data removed]",
      "text/plain": [
       "<Figure size 1200x800 with 1 Axes>"
      ]
     },
     "metadata": {},
     "output_type": "display_data"
    }
   ],
   "source": [
    "import matplotlib.pyplot as plt\n",
    "\n",
    "fig, ax = plt.subplots(figsize=(12, 8))\n",
    "\n",
    "ax.plot([acc.cpu().item() for acc in from_scratch_valid_acc], \n",
    "        label=\"From Scratch Training\", linestyle='--', linewidth=2, marker='o')  \n",
    "ax.plot([acc.cpu().item() for acc in pretrained_valid_acc], \n",
    "        label=\"Pretrained Model\", linestyle='--', linewidth=2, color='orange', marker='s')  \n",
    "\n",
    "ax.set_title(\"Accuracy visualization\", fontsize=18)\n",
    "ax.set_xlabel(\"Epoch\", fontsize=14)\n",
    "ax.set_ylabel(\"Accuracy\", fontsize=14)\n",
    "\n",
    "plt.grid(True)\n",
    "\n",
    "ax.legend(fontsize=12)\n",
    "\n",
    "# Afficher la figure\n",
    "plt.show()\n"
   ]
  }
 ],
 "metadata": {
  "accelerator": "GPU",
  "colab": {
   "provenance": []
  },
  "kernelspec": {
   "display_name": "Python 3 (ipykernel)",
   "language": "python",
   "name": "python3"
  },
  "language_info": {
   "codemirror_mode": {
    "name": "ipython",
    "version": 3
   },
   "file_extension": ".py",
   "mimetype": "text/x-python",
   "name": "python",
   "nbconvert_exporter": "python",
   "pygments_lexer": "ipython3",
   "version": "3.10.12"
  }
 },
 "nbformat": 4,
 "nbformat_minor": 4
}
